Group the data by sex and calculate the average body mass
body_mass_by_sex = original_penguins_data.groupby('sex')['body_mass_g'].mean()

# Display the result as a table
print(body_mass_by_sex)
